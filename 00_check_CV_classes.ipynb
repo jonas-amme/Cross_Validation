{
 "cells": [
  {
   "cell_type": "code",
   "execution_count": 1,
   "metadata": {},
   "outputs": [],
   "source": [
    "%load_ext autoreload\n",
    "%autoreload 2"
   ]
  },
  {
   "cell_type": "code",
   "execution_count": 2,
   "metadata": {},
   "outputs": [],
   "source": [
    "import numpy as np\n",
    "import pandas as pd\n",
    "import sqlite3\n",
    "import torchvision\n",
    "import torch\n",
    "import torch.nn as nn\n",
    "\n",
    "from src.splitting import MonteCarloCV, KfoldCV\n",
    "from src.dataset import Mitosis_Training_Dataset, Mitosis_Validation_Dataset\n"
   ]
  },
  {
   "cell_type": "code",
   "execution_count": 3,
   "metadata": {},
   "outputs": [],
   "source": [
    "n = 10\n",
    "samples = np.arange(n)"
   ]
  },
  {
   "cell_type": "code",
   "execution_count": 4,
   "metadata": {},
   "outputs": [
    {
     "name": "stdout",
     "output_type": "stream",
     "text": [
      "[0 3 4 5 8 9] [1 7] [2 6]\n",
      "[1 3 5 6 7 8] [2 4] [0 9]\n",
      "[0 1 2 4 6 8] [3 9] [5 7]\n",
      "[0 1 2 4 6 9] [5 8] [3 7]\n",
      "[0 1 4 6 7 9] [3 8] [2 5]\n"
     ]
    }
   ],
   "source": [
    "val_size = 0.2\n",
    "test_size = 0.2\n",
    "n_repeats = 5\n",
    "seed = 42\n",
    "\n",
    "mccv = MonteCarloCV(val_size, test_size, n_repeats)\n",
    "\n",
    "for train, val, test in mccv.split(samples):\n",
    "    print(train, val, test)"
   ]
  },
  {
   "cell_type": "code",
   "execution_count": 5,
   "metadata": {},
   "outputs": [
    {
     "name": "stdout",
     "output_type": "stream",
     "text": [
      "[4 5 6 7 8 9] [0 1] [2 3]\n",
      "[0 1 6 7 8 9] [2 3] [4 5]\n",
      "[0 1 2 3 8 9] [4 5] [6 7]\n",
      "[0 1 2 3 4 5] [6 7] [8 9]\n",
      "[2 3 4 5 6 7] [8 9] [0 1]\n"
     ]
    }
   ],
   "source": [
    "n_folds = 5\n",
    "kcv = KfoldCV(n_folds, shuffle=False)\n",
    "\n",
    "for train, val, test in kcv.split(samples):\n",
    "    print(train, val, test)"
   ]
  },
  {
   "cell_type": "code",
   "execution_count": 8,
   "metadata": {},
   "outputs": [],
   "source": [
    "from torchvision.models import densenet121\n",
    "\n",
    "model = densenet121()\n",
    "model"
   ]
  }
 ],
 "metadata": {
  "kernelspec": {
   "display_name": "env",
   "language": "python",
   "name": "python3"
  },
  "language_info": {
   "codemirror_mode": {
    "name": "ipython",
    "version": 3
   },
   "file_extension": ".py",
   "mimetype": "text/x-python",
   "name": "python",
   "nbconvert_exporter": "python",
   "pygments_lexer": "ipython3",
   "version": "3.8.10"
  },
  "orig_nbformat": 4,
  "vscode": {
   "interpreter": {
    "hash": "a10436943edf3c420a72f0c47e071f0f3882bc019c65d4a30ca165453612003e"
   }
  }
 },
 "nbformat": 4,
 "nbformat_minor": 2
}
